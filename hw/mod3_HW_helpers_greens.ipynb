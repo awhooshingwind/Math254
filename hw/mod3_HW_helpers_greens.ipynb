{
  "nbformat": 4,
  "nbformat_minor": 0,
  "metadata": {
    "colab": {
      "name": "mod3_HW_helpers_greens.ipynb",
      "provenance": [],
      "authorship_tag": "ABX9TyOcDMnyhhZezoe1xJLsm0pn",
      "include_colab_link": true
    },
    "kernelspec": {
      "name": "python3",
      "display_name": "Python 3"
    },
    "language_info": {
      "name": "python"
    }
  },
  "cells": [
    {
      "cell_type": "markdown",
      "metadata": {
        "id": "view-in-github",
        "colab_type": "text"
      },
      "source": [
        "<a href=\"https://colab.research.google.com/github/awhooshingwind/Math254/blob/main/hw/mod3_HW_helpers_greens.ipynb\" target=\"_parent\"><img src=\"https://colab.research.google.com/assets/colab-badge.svg\" alt=\"Open In Colab\"/></a>"
      ]
    },
    {
      "cell_type": "code",
      "source": [
        "import numpy as np\n",
        "import matplotlib.pyplot as plt\n",
        "import math\n",
        "\n",
        "from sympy import Curve, line_integrate, ln, E\n",
        "import sympy as sym\n",
        "\n",
        "sym.init_printing()"
      ],
      "metadata": {
        "id": "rskmqZCI1l7V"
      },
      "execution_count": 1,
      "outputs": []
    },
    {
      "cell_type": "markdown",
      "source": [
        "# Assignment 17\n",
        "\n",
        "\n",
        "---\n",
        "\n"
      ],
      "metadata": {
        "id": "E2p-r3ts1exO"
      }
    },
    {
      "cell_type": "code",
      "execution_count": null,
      "metadata": {
        "id": "lpA_TF3j1Iqb"
      },
      "outputs": [],
      "source": [
        "\n"
      ]
    }
  ]
}