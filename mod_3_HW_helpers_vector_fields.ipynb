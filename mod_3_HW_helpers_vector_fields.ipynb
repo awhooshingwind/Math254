{
  "nbformat": 4,
  "nbformat_minor": 0,
  "metadata": {
    "colab": {
      "name": "mod_3_HW_helpers_vector_fields.ipynb",
      "provenance": [],
      "authorship_tag": "ABX9TyMQUv0Qq6ahhOjlTv3c/X+5",
      "include_colab_link": true
    },
    "kernelspec": {
      "name": "python3",
      "display_name": "Python 3"
    },
    "language_info": {
      "name": "python"
    }
  },
  "cells": [
    {
      "cell_type": "markdown",
      "metadata": {
        "id": "view-in-github",
        "colab_type": "text"
      },
      "source": [
        "<a href=\"https://colab.research.google.com/github/awhooshingwind/Math254/blob/main/mod_3_HW_helpers_vector_fields.ipynb\" target=\"_parent\"><img src=\"https://colab.research.google.com/assets/colab-badge.svg\" alt=\"Open In Colab\"/></a>"
      ]
    },
    {
      "cell_type": "code",
      "execution_count": 2,
      "metadata": {
        "id": "KLlSP0fS96-b"
      },
      "outputs": [],
      "source": [
        "import numpy as np\n",
        "import matplotlib.pyplot as plt\n",
        "import math\n",
        "\n",
        "from sympy import Curve, line_integrate, ln, E\n",
        "import sympy as sym\n",
        "\n",
        "sym.init_printing()\n"
      ]
    },
    {
      "cell_type": "code",
      "source": [
        "x, y, z, t = sym.symbols('x y z t')\n",
        "\n",
        "def make_vec(a, x, b, y):\n",
        "  return a*x + b*y\n",
        "\n",
        "def make_exp_vec(x, a, y, b):\n",
        "  return x**a * y**b"
      ],
      "metadata": {
        "id": "TRUuepQa-wfh"
      },
      "execution_count": 132,
      "outputs": []
    },
    {
      "cell_type": "markdown",
      "source": [
        "## 2D Fields"
      ],
      "metadata": {
        "id": "JxLrFBVKSkDY"
      }
    },
    {
      "cell_type": "markdown",
      "source": [
        "Test for Conservative Vector Field in a Plane\n",
        "$ \\overrightarrow{F} = \\  <P, Q> $ is conservative if and only if\n",
        "$$ \\frac{\\partial Q}{\\partial x} = \\frac{\\partial P}{\\partial y} \\\\[1em] $$\n",
        "\n",
        "Consider the vector field $ \\overrightarrow{F} =  $"
      ],
      "metadata": {
        "id": "IyQU_GTT_TQm"
      }
    },
    {
      "cell_type": "code",
      "source": [
        "# P = make_vec(5, x, 7, y)\n",
        "# Q = make_vec(3, x, 5, y)\n",
        "\n",
        "P = make_exp_vec(x, 4, y, 5)\n",
        "Q = make_exp_vec(x, 5, y, 4)\n",
        "\n",
        "display(P,Q)\n",
        "# test for conservative field\n",
        "dQ = sym.diff(Q, x)\n",
        "dP = sym.diff(P, y)\n",
        "if dQ == dP:\n",
        "  print(f'{dQ} = {dP}, field is conservative, nice')\n",
        "else:\n",
        "  print('nah')"
      ],
      "metadata": {
        "colab": {
          "base_uri": "https://localhost:8080/",
          "height": 77
        },
        "id": "agHVwyPfAk0J",
        "outputId": "3b3dc574-bbe4-4bfd-e62a-f4b1882e1278"
      },
      "execution_count": 128,
      "outputs": [
        {
          "output_type": "display_data",
          "data": {
            "text/plain": [
              " 4  5\n",
              "x ⋅y "
            ],
            "image/png": "[encoded data removed]",
            "text/latex": "$\\displaystyle x^{4} y^{5}$"
          },
          "metadata": {}
        },
        {
          "output_type": "display_data",
          "data": {
            "text/plain": [
              " 5  4\n",
              "x ⋅y "
            ],
            "image/png": "[encoded data removed]",
            "text/latex": "$\\displaystyle x^{5} y^{4}$"
          },
          "metadata": {}
        },
        {
          "output_type": "stream",
          "name": "stdout",
          "text": [
            "5*x**4*y**4 = 5*x**4*y**4, field is conservative, nice\n"
          ]
        }
      ]
    },
    {
      "cell_type": "markdown",
      "source": [
        "#### If Conservative, then:"
      ],
      "metadata": {
        "id": "6jQycKTjcFnp"
      }
    },
    {
      "cell_type": "markdown",
      "source": [
        "It follows that $$ \\overrightarrow{F} = \\ <P, Q>  \\ = \\ <f_{x}(x,y), f_{y}(x,y)> \\\\[1em] $$  \n",
        "\n",
        "To reconstruct $ f(x,y) $ we integrate"
      ],
      "metadata": {
        "id": "E7cR5Vg9-K-U"
      }
    },
    {
      "cell_type": "code",
      "source": [
        "fx = sym.integrate(P, x)\n",
        "fy = sym.integrate(Q, y)\n",
        "display(fx,fy)"
      ],
      "metadata": {
        "colab": {
          "base_uri": "https://localhost:8080/",
          "height": 91
        },
        "id": "lk4UvnFTFyYI",
        "outputId": "7ffaad7f-3703-4523-f3df-33b60d88d210"
      },
      "execution_count": 129,
      "outputs": [
        {
          "output_type": "display_data",
          "data": {
            "text/plain": [
              " 5  5\n",
              "x ⋅y \n",
              "─────\n",
              "  5  "
            ],
            "image/png": "[encoded data removed]",
            "text/latex": "$\\displaystyle \\frac{x^{5} y^{5}}{5}$"
          },
          "metadata": {}
        },
        {
          "output_type": "display_data",
          "data": {
            "text/plain": [
              " 5  5\n",
              "x ⋅y \n",
              "─────\n",
              "  5  "
            ],
            "image/png": "[encoded data removed]",
            "text/latex": "$\\displaystyle \\frac{x^{5} y^{5}}{5}$"
          },
          "metadata": {}
        }
      ]
    },
    {
      "cell_type": "code",
      "source": [
        "# f = (3/2)*x**2 + 6*x*y + y**2\n",
        "f = (1/5) * x**5 * y**5\n",
        "f"
      ],
      "metadata": {
        "colab": {
          "base_uri": "https://localhost:8080/",
          "height": 38
        },
        "id": "6EbZQIbEMOyp",
        "outputId": "ec215e8c-d049-4049-b931-209fa46e4835"
      },
      "execution_count": 130,
      "outputs": [
        {
          "output_type": "execute_result",
          "data": {
            "text/plain": [
              "     5  5\n",
              "0.2⋅x ⋅y "
            ],
            "image/png": "[encoded data removed]",
            "text/latex": "$\\displaystyle 0.2 x^{5} y^{5}$"
          },
          "metadata": {},
          "execution_count": 130
        }
      ]
    },
    {
      "cell_type": "markdown",
      "source": [
        "##### Fundamental Theorem of Line Integrals\n",
        "\n",
        "Let C be a piecewise smooth curve lying in an open region R given by **$ \\overrightarrow{r} $**$ = <x(t), y(t)>$ \n",
        "\n",
        "If **$ \\overrightarrow{F} $** is a continuous, conservative vector field then\n",
        "$$ \\int_C \\overrightarrow{F} \\cdot d\\vec{r} = \\int_C \\nabla f \\cdot d\\vec{r} = f(x(b),y(b)) - f(x(a),y(a))\n",
        "$$\n",
        "\n",
        "Where $ f $ is a potential function of **$ \\overrightarrow{F} $**. That is $ \\overrightarrow{F} = \\nabla f $\n",
        "\n",
        "The Fundamental Theorem of Line Integrals states that if the vector field $ \\overrightarrow{F} $ is conservative, then the line integral between any 2 points if the difference in the values of the potentioan function $ f $ at these points regardless of the path used.\n"
      ],
      "metadata": {
        "id": "gIgX-S-tFy7F"
      }
    },
    {
      "cell_type": "markdown",
      "source": [
        "Evaluate $ \\int_C \\overrightarrow{F} \\cdot d\\vec{r} $ along the curve $ C: \\vec{r}(t) = t^2 \\bar{i} + t^3 \\bar{j}, 0 \\leq t \\leq 3  $"
      ],
      "metadata": {
        "id": "GBz7vS6dIoR9"
      }
    },
    {
      "cell_type": "code",
      "source": [
        "# xt = t**2\n",
        "# yt = t**3\n",
        "# t_range = [0, 2]\n",
        "\n",
        "xt = 6*sym.cos(t)\n",
        "yt = 6*sym.sin(t)\n",
        "t_range = [0, sym.pi/4]\n",
        "\n",
        "xvals, yvals = [], []\n",
        "for val in t_range:\n",
        "  xvals.append(xt.subs(t, val))\n",
        "  yvals.append(yt.subs(t, val))\n",
        "\n",
        "line_int = f.subs([(x, xvals[1]), (y, yvals[1])]) - f.subs([(x, xvals[0]), (y, yvals[0])])\n",
        "line_int"
      ],
      "metadata": {
        "colab": {
          "base_uri": "https://localhost:8080/",
          "height": 37
        },
        "id": "JSWXbr9LJcrF",
        "outputId": "9ccf9926-5a1d-4b1d-926f-d52d590ba421"
      },
      "execution_count": 131,
      "outputs": [
        {
          "output_type": "execute_result",
          "data": {
            "text/plain": [
              "377913.600000000"
            ],
            "image/png": "[encoded data removed]",
            "text/latex": "$\\displaystyle 377913.6$"
          },
          "metadata": {},
          "execution_count": 131
        }
      ]
    },
    {
      "cell_type": "markdown",
      "source": [
        "#### Evaluate Non-Conversative Vector Field\n",
        "\n",
        "$$ \\int_C \\overrightarrow{F} \\cdot d\\vec{r} = \\int\\limits_{a}^{b} \\vec{F}\\left(x(t),y(t)\\right) \\cdot \\vec{r} \\ '(t)  \\ dt \\\\[2em]$$"
      ],
      "metadata": {
        "id": "eTaOyU2eYZlB"
      }
    },
    {
      "cell_type": "code",
      "source": [
        "xt = t**2\n",
        "yt = t**3\n",
        "t_range = [0, 3]\n",
        "\n",
        "Pt = P.subs([(x, xt), (y,yt)])\n",
        "Qt = Q.subs([(x, xt), (y,yt)])\n",
        "r_prime = [sym.diff(xt), sym.diff(yt)]\n",
        "display(Pt, Qt, r_prime)\n"
      ],
      "metadata": {
        "colab": {
          "base_uri": "https://localhost:8080/",
          "height": 81
        },
        "id": "NCLiwJuPZTEl",
        "outputId": "5e2c1866-d7c8-4983-ec05-c4390090b1ca"
      },
      "execution_count": 125,
      "outputs": [
        {
          "output_type": "display_data",
          "data": {
            "text/plain": [
              "   3      2\n",
              "7⋅t  + 5⋅t "
            ],
            "image/png": "[encoded data removed]",
            "text/latex": "$\\displaystyle 7 t^{3} + 5 t^{2}$"
          },
          "metadata": {}
        },
        {
          "output_type": "display_data",
          "data": {
            "text/plain": [
              "   3      2\n",
              "5⋅t  + 3⋅t "
            ],
            "image/png": "[encoded data removed]",
            "text/latex": "$\\displaystyle 5 t^{3} + 3 t^{2}$"
          },
          "metadata": {}
        },
        {
          "output_type": "display_data",
          "data": {
            "text/plain": [
              "⎡        2⎤\n",
              "⎣2⋅t, 3⋅t ⎦"
            ],
            "image/png": "[encoded data removed]",
            "text/latex": "$\\displaystyle \\left[ 2 t, \\  3 t^{2}\\right]$"
          },
          "metadata": {}
        }
      ]
    },
    {
      "cell_type": "code",
      "source": [
        "integrand = Pt*r_prime[0] +  Qt*r_prime[1]\n",
        "display(integrand)\n",
        "sol = sym.integrate(integrand, (t, t_range[0], t_range[1]))\n",
        "sol"
      ],
      "metadata": {
        "colab": {
          "base_uri": "https://localhost:8080/",
          "height": 72
        },
        "id": "Lqxjsk8varqZ",
        "outputId": "315c1898-9c5c-4af3-ab46-e39fbe91fae2"
      },
      "execution_count": 126,
      "outputs": [
        {
          "output_type": "display_data",
          "data": {
            "text/plain": [
              "   2 ⎛   3      2⎞       ⎛   3      2⎞\n",
              "3⋅t ⋅⎝5⋅t  + 3⋅t ⎠ + 2⋅t⋅⎝7⋅t  + 5⋅t ⎠"
            ],
            "image/png": "[encoded data removed]",
            "text/latex": "$\\displaystyle 3 t^{2} \\left(5 t^{3} + 3 t^{2}\\right) + 2 t \\left(7 t^{3} + 5 t^{2}\\right)$"
          },
          "metadata": {}
        },
        {
          "output_type": "execute_result",
          "data": {
            "text/plain": [
              "15714/5"
            ],
            "image/png": "[encoded data removed]",
            "text/latex": "$\\displaystyle \\frac{15714}{5}$"
          },
          "metadata": {},
          "execution_count": 126
        }
      ]
    },
    {
      "cell_type": "markdown",
      "source": [
        "\n",
        "\n",
        "---\n",
        "\n",
        "\n",
        "## 3D Fields"
      ],
      "metadata": {
        "id": "3BkXldQoSnZW"
      }
    },
    {
      "cell_type": "markdown",
      "source": [
        "Test for Conservative Vector Field in a Plane\n",
        "$ \\overrightarrow{F} = \\  <P, Q, R> $ is conservative if and only if\n",
        "$$ \n",
        "\\frac{\\partial R}{\\partial y} = \\frac{\\partial Q}{\\partial z}, \\ \\frac{\\partial R}{\\partial x} = \\frac{\\partial P}{\\partial z}, \\ \\frac{\\partial Q}{\\partial x} = \\frac{\\partial P}{\\partial y}  \n",
        "$$\n",
        "\n",
        "Consider the vector field $ \\overrightarrow{F} =  $"
      ],
      "metadata": {
        "id": "8ZexBkIuSx4h"
      }
    },
    {
      "cell_type": "code",
      "source": [
        "P = 5*y*z\n",
        "Q = 5*x*z + 4\n",
        "R = 5*x*y + 2*z\n",
        "# display(P,Q,R)\n",
        "\n",
        "# test for conservative field\n",
        "dRy = sym.diff(R, y)\n",
        "dQz = sym.diff(Q, z)\n",
        "dRx = sym.diff(R, x)\n",
        "dPz = sym.diff(P, z)\n",
        "dQx = sym.diff(Q, x)\n",
        "dPy = sym.diff(P, y)\n",
        "\n",
        "if dQx == dPy and dRy == dQz and dRx == dPz:\n",
        "  print(f'{dPy} = {dQx}, 3D field is conservative, nice')\n",
        "else:\n",
        "  print('nah')"
      ],
      "metadata": {
        "colab": {
          "base_uri": "https://localhost:8080/"
        },
        "id": "o7Jqd-02SqDu",
        "outputId": "6b0dc4a3-cd94-4f1b-992e-5b5a8e5e33d0"
      },
      "execution_count": 133,
      "outputs": [
        {
          "output_type": "stream",
          "name": "stdout",
          "text": [
            "5*z = 5*z, 3D field is conservative, nice\n"
          ]
        }
      ]
    },
    {
      "cell_type": "markdown",
      "source": [
        ""
      ],
      "metadata": {
        "id": "ASf4WUWhUguw"
      }
    },
    {
      "cell_type": "markdown",
      "source": [
        "It follows that $$ \\overrightarrow{F} = \\ <P, Q, R>  \\ = \\ <f_{x}, f_{y}, f_{z}> \\\\[1em] $$  \n",
        "\n",
        "To reconstruct $ f(x,y, z) $ we integrate"
      ],
      "metadata": {
        "id": "QrugmxhuUg_C"
      }
    },
    {
      "cell_type": "code",
      "source": [
        "fx = sym.integrate(P, x)\n",
        "fy = sym.integrate(Q, y)\n",
        "fz = sym.integrate(R, z)\n",
        "display(fx,fy, fz)"
      ],
      "metadata": {
        "colab": {
          "base_uri": "https://localhost:8080/",
          "height": 81
        },
        "outputId": "d4f18979-a683-4763-aaed-199c34e7fa4a",
        "id": "rsvDQl89UtMP"
      },
      "execution_count": 134,
      "outputs": [
        {
          "output_type": "display_data",
          "data": {
            "text/plain": [
              "5⋅x⋅y⋅z"
            ],
            "image/png": "[encoded data removed]",
            "text/latex": "$\\displaystyle 5 x y z$"
          },
          "metadata": {}
        },
        {
          "output_type": "display_data",
          "data": {
            "text/plain": [
              "y⋅(5⋅x⋅z + 4)"
            ],
            "image/png": "[encoded data removed]",
            "text/latex": "$\\displaystyle y \\left(5 x z + 4\\right)$"
          },
          "metadata": {}
        },
        {
          "output_type": "display_data",
          "data": {
            "text/plain": [
              "           2\n",
              "5⋅x⋅y⋅z + z "
            ],
            "image/png": "[encoded data removed]",
            "text/latex": "$\\displaystyle 5 x y z + z^{2}$"
          },
          "metadata": {}
        }
      ]
    },
    {
      "cell_type": "code",
      "source": [
        "f = 5*x*y*z + 4*y + z**2 # + K\n",
        "f"
      ],
      "metadata": {
        "colab": {
          "base_uri": "https://localhost:8080/",
          "height": 38
        },
        "id": "O8YscEe3U_8l",
        "outputId": "9284b704-b412-4b4c-d9cf-b2edf0bcf763"
      },
      "execution_count": 135,
      "outputs": [
        {
          "output_type": "execute_result",
          "data": {
            "text/plain": [
              "                 2\n",
              "5⋅x⋅y⋅z + 4⋅y + z "
            ],
            "image/png": "[encoded data removed]",
            "text/latex": "$\\displaystyle 5 x y z + 4 y + z^{2}$"
          },
          "metadata": {},
          "execution_count": 135
        }
      ]
    },
    {
      "cell_type": "markdown",
      "source": [
        "#### Fundamental Theorem of Line Integrals (3D)\n",
        "\n",
        "Let C be a piecewise smooth curve lying in an open region R given by **$ \\overrightarrow{r} $**$ = <x(t), y(t), z(t)>$ \n",
        "\n",
        "If **$ \\overrightarrow{F} $** is a continuous, conservative vector field then\n",
        "$$ \\int_C \\overrightarrow{F} \\cdot d\\vec{r} = \\int_C \\nabla f \\cdot d\\vec{r} = f(x(b),y(b),z(b)) - f(x(a),y(a),z(a))\n",
        "$$\n",
        "\n",
        "Where $ f $ is a potential function of **$ \\overrightarrow{F} $**. That is $ \\overrightarrow{F} = \\nabla f $\n",
        "\n",
        "The Fundamental Theorem of Line Integrals states that if the vector field $ \\overrightarrow{F} $ is conservative, then the line integral between any 2 points if the difference in the values of the potentioan function $ f $ at these points regardless of the path used.\n"
      ],
      "metadata": {
        "id": "gQgxHF6qVl3m"
      }
    },
    {
      "cell_type": "markdown",
      "source": [
        "Evaluate $ \\int_C \\overrightarrow{F} \\cdot d\\vec{r} $ along the curve $ C: x = t^2, y = t + 4, z = 3t - 4, \\   0 \\leq t \\leq 3  $"
      ],
      "metadata": {
        "id": "IKzZpEo-Vl3n"
      }
    },
    {
      "cell_type": "code",
      "source": [
        "xt = t**2\n",
        "yt = t + 5\n",
        "zt = 4*t - 5\n",
        "t_range = t_range = [0, 4]\n",
        "\n",
        "xvals, yvals, zvals = [], [], []\n",
        "for val in t_range:\n",
        "  xvals.append(xt.subs(t, val))\n",
        "  yvals.append(yt.subs(t, val))\n",
        "  zvals.append(zt.subs(t, val))\n",
        "\n",
        "line_int = f.subs([(x, xvals[1]), (y, yvals[1]), (z, zvals[1])]) - f.subs([(x, xvals[0]), (y, yvals[0]), (z, zvals[0])])\n",
        "line_int"
      ],
      "metadata": {
        "colab": {
          "base_uri": "https://localhost:8080/",
          "height": 37
        },
        "outputId": "4b8651b4-c3d7-461b-ace3-d58a864a53aa",
        "id": "1CFJVULhVl3n"
      },
      "execution_count": 136,
      "outputs": [
        {
          "output_type": "execute_result",
          "data": {
            "text/plain": [
              "8032"
            ],
            "image/png": "[encoded data removed]",
            "text/latex": "$\\displaystyle 8032$"
          },
          "metadata": {},
          "execution_count": 136
        }
      ]
    },
    {
      "cell_type": "code",
      "source": [
        "\"\"\"HW helper\n",
        "in progress\n",
        "help visualizing and solving\n",
        "\"\"\"\n",
        "# class MakePlot:\n",
        "  \n",
        "\n"
      ],
      "metadata": {
        "id": "HQAOJnuL99MF"
      },
      "execution_count": null,
      "outputs": []
    }
  ]
}