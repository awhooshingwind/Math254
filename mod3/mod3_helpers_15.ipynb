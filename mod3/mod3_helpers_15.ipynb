{
  "nbformat": 4,
  "nbformat_minor": 0,
  "metadata": {
    "colab": {
      "name": "mod3_helpers_15.ipynb",
      "provenance": [],
      "authorship_tag": "ABX9TyO/xxq3WrPr2Z4uB+sCcq5L",
      "include_colab_link": true
    },
    "kernelspec": {
      "name": "python3",
      "display_name": "Python 3"
    },
    "language_info": {
      "name": "python"
    }
  },
  "cells": [
    {
      "cell_type": "markdown",
      "metadata": {
        "id": "view-in-github",
        "colab_type": "text"
      },
      "source": [
        "<a href=\"https://colab.research.google.com/github/awhooshingwind/Math254/blob/main/mod3_helpers_15.ipynb\" target=\"_parent\"><img src=\"https://colab.research.google.com/assets/colab-badge.svg\" alt=\"Open In Colab\"/></a>"
      ]
    },
    {
      "cell_type": "code",
      "execution_count": null,
      "metadata": {
        "id": "Wms8baNxKsEp"
      },
      "outputs": [],
      "source": [
        "import numpy as np\n",
        "import matplotlib.pyplot as plt\n",
        "import math\n",
        "\n",
        "from sympy import Curve, line_integrate, ln, E\n",
        "import sympy as sym\n",
        "\n",
        "sym.init_printing()\n"
      ]
    },
    {
      "cell_type": "code",
      "source": [
        "\"\"\"HW helper\n",
        "\n",
        "help visualizing and solving\n",
        "\"\"\"\n",
        "class MakePlot:\n",
        "  \n",
        "\n"
      ],
      "metadata": {
        "id": "C7TJyeDMtOps"
      },
      "execution_count": null,
      "outputs": []
    },
    {
      "cell_type": "markdown",
      "source": [
        "## Mod 3 HW Helpers"
      ],
      "metadata": {
        "id": "9JZEqNU2L0XO"
      }
    },
    {
      "cell_type": "code",
      "source": [
        "# Function\n",
        "def f(x,y):\n",
        "  return np.log(5*x+6*y)\n",
        "\n",
        "# Make data\n",
        "x = [0, 10]\n",
        "y = [0, 10]\n",
        "x_vals = np.linspace(x[0], x[1], 100)\n",
        "y_vals = np.linspace(y[0], y[1], 100)\n",
        "#print(x_vals, y_vals)\n",
        "\n",
        "np.gradient(f(x_vals, y_vals))\n"
      ],
      "metadata": {
        "colab": {
          "base_uri": "https://localhost:8080/"
        },
        "id": "xZDTFQvxL-AP",
        "outputId": "8f82cbdd-fa39-49af-e877-9ea7daa138d6"
      },
      "execution_count": null,
      "outputs": [
        {
          "output_type": "stream",
          "name": "stderr",
          "text": [
            "/usr/local/lib/python3.7/dist-packages/ipykernel_launcher.py:3: RuntimeWarning: divide by zero encountered in log\n",
            "  This is separate from the ipykernel package so we can avoid doing imports until\n"
          ]
        },
        {
          "output_type": "execute_result",
          "data": {
            "text/plain": [
              "array([       inf,        inf, 0.54930614, 0.34657359, 0.25541281,\n",
              "       0.20273255, 0.16823612, 0.14384104, 0.12565721, 0.11157178,\n",
              "       0.10033535, 0.09116078, 0.08352704, 0.07707534, 0.07155042,\n",
              "       0.0667657 , 0.06258157, 0.05889152, 0.05561282, 0.05268026,\n",
              "       0.05004173, 0.04765509, 0.04548589, 0.04350569, 0.0416908 ,\n",
              "       0.04002135, 0.03848052, 0.03705399, 0.03572948, 0.03449644,\n",
              "       0.03334569, 0.03226926, 0.03126018, 0.03031231, 0.02942025,\n",
              "       0.02857921, 0.02778493, 0.02703361, 0.02632187, 0.02564665,\n",
              "       0.02500521, 0.02439508, 0.02381402, 0.02326001, 0.02273119,\n",
              "       0.02222588, 0.02174256, 0.02127981, 0.02083635, 0.020411  ,\n",
              "       0.02000267, 0.01961036, 0.01923314, 0.01887016, 0.01852064,\n",
              "       0.01818382, 0.01785904, 0.01754566, 0.01724309, 0.01695078,\n",
              "       0.01666821, 0.01639491, 0.01613043, 0.01587435, 0.01562627,\n",
              "       0.01538583, 0.01515267, 0.01492648, 0.01470694, 0.01449377,\n",
              "       0.01428669, 0.01408544, 0.01388978, 0.01369949, 0.01351434,\n",
              "       0.01333412, 0.01315865, 0.01298774, 0.01282122, 0.0126589 ,\n",
              "       0.01250065, 0.01234631, 0.01219573, 0.01204878, 0.01190532,\n",
              "       0.01176525, 0.01162843, 0.01149476, 0.01136413, 0.01123643,\n",
              "       0.01111157, 0.01098945, 0.01086999, 0.0107531 , 0.0106387 ,\n",
              "       0.0105267 , 0.01041704, 0.01030964, 0.01020444, 0.01015237])"
            ]
          },
          "metadata": {},
          "execution_count": 3
        }
      ]
    },
    {
      "cell_type": "code",
      "source": [
        "# Assignment 15 Line Integral Given Points\n",
        "\n",
        "x, y, z, t = sym.symbols('x y z t')\n",
        "def line_seg(pt1, pt2):\n",
        "  x_seg = (1-t)*pt1[0] + t*pt2[0]\n",
        "  y_seg = (1-t)*pt1[1] + t*pt2[1]\n",
        "  z_seg = (1-t)*pt1[2] + t*pt2[2]\n",
        "  return x_seg, y_seg, z_seg\n",
        "\n",
        "start = [0,-5,6]\n",
        "end = [-3,-7,7]\n",
        "param_line = line_seg(start, end)\n",
        "d = 0\n",
        "for p in param_line:\n",
        "  d += (sym.diff(p, t)**2)\n",
        "c_func = param_line[0]**2 * param_line[2]\n",
        "sol = sym.sqrt(d)*sym.integrate(c_func,(t, 0 ,1))\n",
        "sol\n"
      ],
      "metadata": {
        "colab": {
          "base_uri": "https://localhost:8080/",
          "height": 55
        },
        "id": "FYIYT8N7PXJC",
        "outputId": "17bd6345-c89b-4857-abe9-0d1c9694d961"
      },
      "execution_count": null,
      "outputs": [
        {
          "output_type": "execute_result",
          "data": {
            "text/plain": [
              "81⋅√14\n",
              "──────\n",
              "  4   "
            ],
            "image/png": "[encoded data removed]",
            "text/latex": "$\\displaystyle \\frac{81 \\sqrt{14}}{4}$"
          },
          "metadata": {},
          "execution_count": 85
        }
      ]
    },
    {
      "cell_type": "code",
      "source": [
        "# Problem 5\n",
        "def f_vec(z, y, x):\n",
        "  return [-4*z, 3*y, 4*x]\n",
        "f_t = f_vec(sym.cos(t), sym.sin(t), t)\n",
        "r_t = [t, sym.sin(t), sym.cos(t)]\n",
        "r_prime, c_func = [], []\n",
        "sol = 0\n",
        "for i in range(3):\n",
        "  r_prime.append(sym.diff(r_t[i], t))\n",
        "  c_func.append(f_t[i] * r_prime[i])\n",
        "  sol += sym.integrate(c_func[i], (t, 0, sym.pi))\n",
        "\n",
        "sol"
      ],
      "metadata": {
        "colab": {
          "base_uri": "https://localhost:8080/",
          "height": 38
        },
        "id": "PHqxh3Qqd6sE",
        "outputId": "9b34869d-4a66-4c69-e54d-edd4218460ba"
      },
      "execution_count": null,
      "outputs": [
        {
          "output_type": "execute_result",
          "data": {
            "text/plain": [
              "-4⋅π"
            ],
            "image/png": "[encoded data removed]",
            "text/latex": "$\\displaystyle - 4 \\pi$"
          },
          "metadata": {},
          "execution_count": 164
        }
      ]
    },
    {
      "cell_type": "code",
      "source": [
        "# Problem 6 - Work done by particle moving in straight line\n",
        "\n",
        "r_t = [4, 2*t, 4*t]\n",
        "d = 0\n",
        "for r in r_t:\n",
        "  d += (r)**2\n",
        "K = 20\n",
        "mag_d = sym.sqrt(d)\n",
        "def f_r(K, rt):\n",
        "  v, r_p, ans = 0, 0, []\n",
        "  for r in rt:\n",
        "    v = (K*r)\n",
        "    r_p = sym.diff(r)\n",
        "    ans.append(v * r_p/(mag_d**3))\n",
        "  return ans\n",
        "integrand = f_r(K, r_t)\n",
        "sol = 0\n",
        "for i in integrand:\n",
        "  sol += sym.integrate(i, (t, 0, 1))\n",
        "  #print(sol)\n",
        "sol"
      ],
      "metadata": {
        "colab": {
          "base_uri": "https://localhost:8080/",
          "height": 103
        },
        "id": "1_QM31CIkZhQ",
        "outputId": "565d829b-c12e-4cdf-8808-31a7e5e71c39"
      },
      "execution_count": null,
      "outputs": [
        {
          "output_type": "stream",
          "name": "stdout",
          "text": [
            "0\n",
            "1/3\n",
            "5/3\n"
          ]
        },
        {
          "output_type": "execute_result",
          "data": {
            "text/plain": [
              "5/3"
            ],
            "image/png": "[encoded data removed]",
            "text/latex": "$\\displaystyle \\frac{5}{3}$"
          },
          "metadata": {},
          "execution_count": 146
        }
      ]
    },
    {
      "cell_type": "code",
      "source": [
        "# Problem 7 - Line Integrals wrt x\n",
        "xt = t**2\n",
        "x_prime = sym.diff(xt)\n",
        "yt = t\n",
        "\n",
        "sym.integrate(xt**3 * yt**2 * x_prime, (t, 0, 3))"
      ],
      "metadata": {
        "colab": {
          "base_uri": "https://localhost:8080/",
          "height": 51
        },
        "id": "n92e9JM7p1er",
        "outputId": "969f6ef1-9c13-4df4-cf15-09646533a929"
      },
      "execution_count": null,
      "outputs": [
        {
          "output_type": "execute_result",
          "data": {
            "text/plain": [
              "59049/5"
            ],
            "image/png": "[encoded data removed]",
            "text/latex": "$\\displaystyle \\frac{59049}{5}$"
          },
          "metadata": {},
          "execution_count": 163
        }
      ]
    },
    {
      "cell_type": "code",
      "source": [
        "# Prob 9\n",
        "\n",
        "6*math.exp(6)"
      ],
      "metadata": {
        "colab": {
          "base_uri": "https://localhost:8080/",
          "height": 37
        },
        "id": "C3HsGz3QvDtG",
        "outputId": "23b26beb-d694-4c07-db6a-1ad46b3ccedd"
      },
      "execution_count": null,
      "outputs": [
        {
          "output_type": "execute_result",
          "data": {
            "text/plain": [
              "2420.5727609564105"
            ],
            "image/png": "[encoded data removed]",
            "text/latex": "$\\displaystyle 2420.57276095641$"
          },
          "metadata": {},
          "execution_count": 165
        }
      ]
    },
    {
      "cell_type": "code",
      "source": [
        "x, y, t = sym.symbols('x y t')\n",
        "fx = 4*sym.cos(t)\n",
        "fy = 4*sym.sin(t)\n",
        "t_range = [-sym.pi/2, sym.pi/2]\n",
        "C = Curve([fx, fy], (t, t_range[0], t_range[1]))\n",
        "line_integrate(x*y**2, C, [x, y])"
      ],
      "metadata": {
        "colab": {
          "base_uri": "https://localhost:8080/",
          "height": 51
        },
        "id": "S3_IsJM2QRGZ",
        "outputId": "dfe7cf2b-0469-454a-ea49-e2193575cee6"
      },
      "execution_count": null,
      "outputs": [
        {
          "output_type": "execute_result",
          "data": {
            "text/plain": [
              "512/3"
            ],
            "image/png": "[encoded data removed]",
            "text/latex": "$\\displaystyle \\frac{512}{3}$"
          },
          "metadata": {},
          "execution_count": 157
        }
      ]
    },
    {
      "cell_type": "code",
      "source": [
        "# Problem 10 - Work done by particle moving in straight line\n",
        "\n",
        "r_t = [1, 4*t, 2*t]\n",
        "d = 0\n",
        "for r in r_t:\n",
        "  d += (r)**2\n",
        "K = 25\n",
        "mag_d = sym.sqrt(d)\n",
        "def f_r(K, rt):\n",
        "  v, r_p, ans = 0, 0, []\n",
        "  for r in rt:\n",
        "    v = (K*r)\n",
        "    r_p = sym.diff(r)\n",
        "    ans.append(v * r_p/(mag_d**3))\n",
        "  return ans\n",
        "integrand = f_r(K, r_t)\n",
        "sol = 0\n",
        "for i in integrand:\n",
        "  sol += sym.integrate(i, (t, 0, 1))\n",
        "  #print(sol)\n",
        "sol"
      ],
      "metadata": {
        "colab": {
          "base_uri": "https://localhost:8080/",
          "height": 55
        },
        "id": "Q929Vuy6vQJD",
        "outputId": "82c57c69-2bd3-412c-c015-ac11cf3ea647"
      },
      "execution_count": null,
      "outputs": [
        {
          "output_type": "execute_result",
          "data": {
            "text/plain": [
              "     25⋅√21\n",
              "25 - ──────\n",
              "       21  "
            ],
            "image/png": "[encoded data removed]",
            "text/latex": "$\\displaystyle 25 - \\frac{25 \\sqrt{21}}{21}$"
          },
          "metadata": {},
          "execution_count": 167
        }
      ]
    }
  ]
}